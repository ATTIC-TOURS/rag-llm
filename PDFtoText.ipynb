{
  "cells": [
    {
      "cell_type": "markdown",
      "metadata": {
        "id": "yGCTMDB5VOxD"
      },
      "source": [
        "# PDFs to One Document\n",
        "\n",
        "The following is how to turn PDFs into One Document file (.txt .docs and so on)\n",
        "\n"
      ]
    },
    {
      "cell_type": "markdown",
      "metadata": {
        "id": "IZRs1f7maHf6"
      },
      "source": [
        "Download all necessary libraries and import them.\n",
        "\n",
        "- PyPDF2 - to extract text from the PDF file"
      ]
    },
    {
      "cell_type": "code",
      "execution_count": 5,
      "metadata": {
        "colab": {
          "base_uri": "https://localhost:8080/"
        },
        "id": "piD_oIkDaN_g",
        "outputId": "c11d0955-d79a-4a6f-a120-f225b551256c"
      },
      "outputs": [],
      "source": [
        "import PyPDF2\n",
        "import os"
      ]
    },
    {
      "cell_type": "markdown",
      "metadata": {},
      "source": [
        "**The flow of preprocessing PDFs to Text**\n",
        "\n",
        "<img src=\"./images/pdf_to_txt_preprocess.png\" />"
      ]
    },
    {
      "cell_type": "code",
      "execution_count": 21,
      "metadata": {},
      "outputs": [],
      "source": [
        "# returns paths that is (categories, paths)\n",
        "def get_pdf_paths():\n",
        "    categories = os.listdir(\"./PDFs\")\n",
        "    paths = []\n",
        "    for category in categories:\n",
        "        filenames = os.listdir(os.path.join(os.getcwd(), \"PDFs\", category))\n",
        "        pdfs_per_category = [os.path.join(os.getcwd(), \"PDFs\", category, file) for file in filenames]\n",
        "        paths.append(pdfs_per_category)\n",
        "    return paths"
      ]
    },
    {
      "cell_type": "code",
      "execution_count": 27,
      "metadata": {
        "colab": {
          "base_uri": "https://localhost:8080/"
        },
        "id": "vbKcErAwVNng",
        "outputId": "f875cc42-e427-4450-8b45-4c60d4a3de54"
      },
      "outputs": [],
      "source": [
        "# The target url to read PDF file\n",
        "PDFs = get_pdf_paths()\n",
        "try:\n",
        "  raw_content = \"\"\n",
        "  for category in PDFs:\n",
        "    for pdf_path in category:\n",
        "      # open the PDF file\n",
        "      pdfFileObj = open(pdf_path,'rb')\n",
        "      pdfReader = PyPDF2.PdfReader(pdfFileObj)\n",
        "      raw = \"\"\n",
        "\n",
        "      # read the PDF page by page\n",
        "      for page in range(0, len(pdfReader.pages)):\n",
        "        currentPage = pdfReader.pages[page]\n",
        "        raw += currentPage.extract_text()\n",
        "\n",
        "      # append the content of the pdf\n",
        "      raw_content += raw\n",
        "except ValueError:\n",
        "  print(\"url is not set up yet\")\n",
        "\n",
        "with open(\"document.txt\", \"a\") as f:\n",
        "  f.write(raw_content)"
      ]
    },
    {
      "cell_type": "code",
      "execution_count": null,
      "metadata": {},
      "outputs": [],
      "source": []
    }
  ],
  "metadata": {
    "colab": {
      "provenance": []
    },
    "kernelspec": {
      "display_name": "Python 3",
      "name": "python3"
    },
    "language_info": {
      "codemirror_mode": {
        "name": "ipython",
        "version": 3
      },
      "file_extension": ".py",
      "mimetype": "text/x-python",
      "name": "python",
      "nbconvert_exporter": "python",
      "pygments_lexer": "ipython3",
      "version": "3.11.5"
    }
  },
  "nbformat": 4,
  "nbformat_minor": 0
}
