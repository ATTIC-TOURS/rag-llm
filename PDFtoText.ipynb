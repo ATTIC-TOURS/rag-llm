{
  "nbformat": 4,
  "nbformat_minor": 0,
  "metadata": {
    "colab": {
      "provenance": []
    },
    "kernelspec": {
      "name": "python3",
      "display_name": "Python 3"
    },
    "language_info": {
      "name": "python"
    }
  },
  "cells": [
    {
      "cell_type": "markdown",
      "source": [
        "# Getting the documents PDF\n",
        "\n",
        "Get the documents PDF at [Embassy of Japan in the Philippines Visa/Consular Services](https://www.ph.emb-japan.go.jp/itpr_en/00_000035.html).\n",
        "\n"
      ],
      "metadata": {
        "id": "yGCTMDB5VOxD"
      }
    },
    {
      "cell_type": "markdown",
      "source": [
        "The following is draft for reading a text from a PDF file."
      ],
      "metadata": {
        "id": "hUG69937ZgR8"
      }
    },
    {
      "cell_type": "markdown",
      "source": [
        "Download all necessary libraries and import them."
      ],
      "metadata": {
        "id": "IZRs1f7maHf6"
      }
    },
    {
      "cell_type": "code",
      "source": [
        "!pip install PyPDF2\n",
        "import PyPDF2, nltk\n",
        "nltk.download(\"punkt\")\n",
        "from nltk.tokenize import word_tokenize"
      ],
      "metadata": {
        "colab": {
          "base_uri": "https://localhost:8080/"
        },
        "id": "piD_oIkDaN_g",
        "outputId": "c11d0955-d79a-4a6f-a120-f225b551256c"
      },
      "execution_count": 15,
      "outputs": [
        {
          "output_type": "stream",
          "name": "stdout",
          "text": [
            "Requirement already satisfied: PyPDF2 in /usr/local/lib/python3.10/dist-packages (3.0.1)\n"
          ]
        },
        {
          "output_type": "stream",
          "name": "stderr",
          "text": [
            "[nltk_data] Downloading package punkt to /root/nltk_data...\n",
            "[nltk_data]   Unzipping tokenizers/punkt.zip.\n"
          ]
        }
      ]
    },
    {
      "cell_type": "code",
      "execution_count": 16,
      "metadata": {
        "colab": {
          "base_uri": "https://localhost:8080/"
        },
        "id": "vbKcErAwVNng",
        "outputId": "f875cc42-e427-4450-8b45-4c60d4a3de54"
      },
      "outputs": [
        {
          "output_type": "stream",
          "name": "stdout",
          "text": [
            "TOURISM   \n",
            "May 2024  \n",
            "  \n",
            "A. PURPOSE   \n",
            "Visit Japan for tou rism.  \n",
            "  \n",
            "B. Requirements （Details→ https://www.ph.emb -japan.go.jp/itpr_ja/11_000001_00898.html ）  \n",
            "    \n",
            "※ Downloadable from this website    \n",
            "      \n",
            "(1) Passport（Holder’s signature required ）  \n",
            "(2) Application Form ※（A facial Photo (4.5×3.5cm) must be attached. ）  \n",
            "(3) PSA issued Birth Certificate and Marriage Certificate (for married applicants), issued within 1 year  \n",
            "☞ Unnecessary if there is used Japan Visa on passport.  \n",
            "【ADDITIONAL REQUIREMENTS 】  \n",
            "- If (3) is unreadable, submit Birth/Marriage certificate issued by Local Civil Registrar.  \n",
            "- If Birth Certificate is “LATE REGISTRATION”, submit Baptismal Certificate and School Record (Form 137).  \n",
            "-If there is no record of Birth/Marriage  in PSA, submit Birth Certificate issued by Local Civil Registrar and Negative  \n",
            "Certificate issued by PSA.  \n",
            "(4) Itinerary in Japan  \n",
            " \n",
            "【In case that applicant will shoulder part/all of travel expense 】   \n",
            " \n",
            "(5) Applicant’s Bank Certificate (balance within the last six months must be shown)  \n",
            "* If the Average Daily Balance (ADB) in the last six months is not indicated, bank statement must be \n",
            "submitted to prove transactions within the last six months.  \n",
            "(6) Applicant’s Tax Payment Certificate  \n",
            "* Form 2316, must have signature of the Employer and Employee  \n",
            "* For business owners, proof of actual payment of tax must be submitted in addi tion to the BIR Tax \n",
            "Payment Certificate Form (copy acceptable)  \n",
            "(7) Applicant’s Employment Certificate (must indicate period of employment, salary  and position)  \n",
            "* For business owners, Department of Trade  and Industry (DTI) “Certificate of Business Name \n",
            "Registration” and Mayor’s Permit from the City Hall must be submitted.  \n",
            "* If for any reason other than being a retiree, full -time housewife or unemployed, applicant is unable to \n",
            "submit (6) and (7) above, a letter of explanation about the reason must be submitted. For students, a \n",
            "copy of School ID or Certificate of Enrollment in School must be submitted.  \n",
            "  \n",
            "【In case that guarantor in the Philippines will shoulder part/all of travel expense 】  \n",
            "(8) Guarantee Letter ※  \n",
            "(9) Proof of relationship between applicant and guarantor(e.g. Birth Certificates  or Photos )  \n",
            "(10) Bank Certificate [see (5) above]  \n",
            "(11) Photocopy of Tax Payment Certificate  [see (6) above]   \n",
            "(12) Employment Certificate [see (7) above]  \n",
            "  \n",
            "  \n"
          ]
        }
      ],
      "source": [
        "# The target url to read PDF file\n",
        "pdf_path = \"/content/tourism.pdf\"\n",
        "try:\n",
        "  # open the PDF file\n",
        "  pdfFileObj = open(pdf_path,'rb')\n",
        "  pdfReader = PyPDF2.PdfReader(pdfFileObj)\n",
        "  raw = \"\"\n",
        "  for page in range(0, len(pdfReader.pages)):\n",
        "    currentPage = pdfReader.pages[page]\n",
        "    raw += currentPage.extract_text()\n",
        "  print(text)\n",
        "  tokens = nltk.word_tokenize(raw)\n",
        "  text = nltk.Text(tokens)\n",
        "except ValueError:\n",
        "  print(\"url is not set up yet\")"
      ]
    },
    {
      "cell_type": "code",
      "source": [],
      "metadata": {
        "id": "IutuZ0GOaYSk"
      },
      "execution_count": null,
      "outputs": []
    }
  ]
}