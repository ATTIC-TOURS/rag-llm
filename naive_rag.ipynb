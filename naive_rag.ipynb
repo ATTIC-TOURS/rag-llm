{
 "cells": [
  {
   "cell_type": "markdown",
   "metadata": {},
   "source": [
    "# Naive RAG\n",
    "\n",
    "The following codes are the implementation of Naive RAG."
   ]
  },
  {
   "cell_type": "markdown",
   "metadata": {},
   "source": [
    "Load the necessary libraries\n",
    "\n",
    "- dotenv - to hide the api keys\n",
    "- os - to handle the os environment\n",
    "- ChatOpenAI - to use the model in OpenAI\n",
    "- UnstructuredLoader - to load the txt file turn into multiple Documents\n",
    "- RecursiveCharacterTextSplitter - to split the Documents\n",
    "- Chroma - is an AI-native open-source vector database\n",
    "- HuggingFaceEmbeddings - to convert text to embeddings\n",
    "- hub - to get the template prompt\n",
    "- StrOutputParser - to only get the content of the output of the llm"
   ]
  },
  {
   "cell_type": "code",
   "execution_count": 3,
   "metadata": {},
   "outputs": [
    {
     "name": "stderr",
     "output_type": "stream",
     "text": [
      "/Users/krimssmirk/Desktop/rag-llm/.venv/lib/python3.11/site-packages/pydantic/_internal/_fields.py:132: UserWarning: Field \"model_name\" in HuggingFaceInferenceAPIEmbeddings has conflict with protected namespace \"model_\".\n",
      "\n",
      "You may be able to resolve this warning by setting `model_config['protected_namespaces'] = ()`.\n",
      "  warnings.warn(\n"
     ]
    }
   ],
   "source": [
    "from dotenv import load_dotenv\n",
    "load_dotenv()\n",
    "import os\n",
    "os.environ[\"OPENAI_API_KEY\"] = os.getenv(\"OPENAI_API_KEY\")\n",
    "from langchain_openai import ChatOpenAI\n",
    "from langchain_unstructured import UnstructuredLoader\n",
    "from langchain_text_splitters import RecursiveCharacterTextSplitter\n",
    "from langchain_chroma import Chroma\n",
    "from langchain_community.vectorstores.utils import filter_complex_metadata\n",
    "from langchain.embeddings import HuggingFaceEmbeddings\n",
    "from langchain import hub\n",
    "from langchain_core.runnables import RunnablePassthrough\n",
    "from langchain_core.output_parsers import StrOutputParser\n"
   ]
  },
  {
   "cell_type": "code",
   "execution_count": 4,
   "metadata": {},
   "outputs": [],
   "source": [
    "llm = ChatOpenAI(model=\"gpt-4o-mini\")"
   ]
  },
  {
   "cell_type": "markdown",
   "metadata": {},
   "source": [
    "## Store the data to Vector Database"
   ]
  },
  {
   "cell_type": "code",
   "execution_count": 37,
   "metadata": {},
   "outputs": [],
   "source": [
    "def get_pdf_paths():\n",
    "    categories = os.listdir(\"./PDFs\")\n",
    "    paths = []\n",
    "    for category in categories:\n",
    "        filenames = os.listdir(os.path.join(os.getcwd(), \"PDFs\", category))\n",
    "        pdfs_per_category = [os.path.join(os.getcwd(), \"PDFs\", category, file) for file in filenames]\n",
    "        paths += pdfs_per_category\n",
    "    return paths\n",
    "\n",
    "\n",
    "from langchain_community.document_loaders import PyPDFLoader\n",
    "\n",
    "file_paths = get_pdf_paths()\n",
    "\n",
    "pages = []\n",
    "for file_path in file_paths:\n",
    "    loader = PyPDFLoader(file_path)\n",
    "    async for page in loader.alazy_load():\n",
    "        pages.append(page)"
   ]
  },
  {
   "cell_type": "code",
   "execution_count": 51,
   "metadata": {},
   "outputs": [
    {
     "name": "stderr",
     "output_type": "stream",
     "text": [
      "INFO: HTTP Request: POST https://api.openai.com/v1/chat/completions \"HTTP/1.1 200 OK\"\n"
     ]
    },
    {
     "name": "stdout",
     "output_type": "stream",
     "text": [
      "**Summary of Requirements for Visiting Relatives in Japan (May 2023)**\n",
      "\n",
      "**A. Purpose:**  \n",
      "To visit relatives in Japan within the third degree of relationship. For visiting distant relatives or friends, different requirements apply.\n",
      "\n",
      "**B. Requirements:**  \n",
      "- **Applicant's Requirements:**\n",
      "  1. **Passport:** Must include holder’s signature.\n",
      "  2. **Application Form:** A facial photo (4.5x3.5 cm) is required. Proof of relationship (birth/marriage certificates) must be submitted.\n",
      "  3. **Birth Certificate:** Issued by PSA within the last year; additional documents may be needed if unreadable or if there is a late registration.\n",
      "  4. **Marriage Certificate:** For married applicants, issued by PSA within the last year; similar additional documents apply as for the birth certificate.\n",
      "  5. **Bank Certificate:** Required if the applicant will cover part or all of the travel expenses.\n",
      "  6. **Photocopy of Income Tax Return:** Required if the applicant will cover part or all of the travel expenses.\n",
      "\n",
      "- **Inviter’s Requirements:**\n",
      "  7. **Invitation Letter**\n",
      "  8. **Itinerary in Japan**\n",
      "  9. **Residence Certificate (Jumin-hyo):** Must show all household members.\n",
      "     - If the inviter is Japanese, submit Koseki-tohon; if not, provide a photocopy of the Residence Card.\n",
      "  10. **Guarantee Letter:** Required if the guarantor will cover part or all of the travel expenses.\n",
      "  11. **Latest Financial Documents:** Various documents (income certificate, tax certificate, final tax return photocopy, bank certificate) to demonstrate the guarantor's ability to pay.\n",
      "\n",
      "For further details, refer to the provided website link.\n"
     ]
    }
   ],
   "source": [
    "print(llm.invoke(f\"summarize the following: {pages[2].page_content}\").content)"
   ]
  },
  {
   "cell_type": "code",
   "execution_count": 40,
   "metadata": {},
   "outputs": [
    {
     "name": "stderr",
     "output_type": "stream",
     "text": [
      "INFO: HTTP Request: POST https://api.openai.com/v1/embeddings \"HTTP/1.1 200 OK\"\n",
      "INFO: HTTP Request: POST https://api.openai.com/v1/embeddings \"HTTP/1.1 200 OK\"\n"
     ]
    }
   ],
   "source": [
    "from langchain_core.vectorstores import InMemoryVectorStore\n",
    "from langchain_openai import OpenAIEmbeddings\n",
    "\n",
    "vector_store = InMemoryVectorStore.from_documents(pages, OpenAIEmbeddings())\n",
    "# docs = vector_store.similarity_search(\"What is LayoutParser?\", k=2)\n",
    "# for doc in docs:\n",
    "#     print(f'Page {doc.metadata[\"page\"]}: {doc.page_content}\\n')"
   ]
  },
  {
   "cell_type": "code",
   "execution_count": 6,
   "metadata": {},
   "outputs": [],
   "source": [
    "FILE_PATH = \"/Users/krimssmirk/Desktop/rag-llm/document.txt\""
   ]
  },
  {
   "cell_type": "code",
   "execution_count": 7,
   "metadata": {},
   "outputs": [],
   "source": [
    "# Load the contents\n",
    "# loader = UnstructuredLoader(FILE_PATH)\n",
    "# docs = loader.load() # return list of Documents"
   ]
  },
  {
   "cell_type": "code",
   "execution_count": 15,
   "metadata": {},
   "outputs": [],
   "source": [
    "# chunk the contents\n",
    "# text_splitter = RecursiveCharacterTextSplitter(chunk_size=2000, chunk_overlap=200)\n",
    "# splits = text_splitter.split_documents(docs)"
   ]
  },
  {
   "cell_type": "code",
   "execution_count": 16,
   "metadata": {},
   "outputs": [
    {
     "name": "stderr",
     "output_type": "stream",
     "text": [
      "/var/folders/0r/dktk9n0551j0gkccz4k6246h0000gn/T/ipykernel_61446/4216741638.py:2: LangChainDeprecationWarning: Default values for HuggingFaceEmbeddings.model_name were deprecated in LangChain 0.2.16 and will be removed in 0.4.0. Explicitly pass a model_name to the HuggingFaceEmbeddings constructor instead.\n",
      "  vectorstore = Chroma.from_documents(documents=filter_complex_metadata(splits), embedding=HuggingFaceEmbeddings())\n",
      "INFO: Load pretrained SentenceTransformer: sentence-transformers/all-mpnet-base-v2\n",
      "INFO: Use pytorch device: cpu\n"
     ]
    }
   ],
   "source": [
    "# index the contents and store it\n",
    "# vectorstore = Chroma.from_documents(documents=filter_complex_metadata(splits), embedding=HuggingFaceEmbeddings())"
   ]
  },
  {
   "cell_type": "markdown",
   "metadata": {},
   "source": [
    "## RAG demo"
   ]
  },
  {
   "cell_type": "code",
   "execution_count": 52,
   "metadata": {},
   "outputs": [
    {
     "name": "stderr",
     "output_type": "stream",
     "text": [
      "/Users/krimssmirk/Desktop/rag-llm/.venv/lib/python3.11/site-packages/langsmith/client.py:323: LangSmithMissingAPIKeyWarning: API key must be provided when using hosted LangSmith API\n",
      "  warnings.warn(\n"
     ]
    }
   ],
   "source": [
    "# Retrieve and generate using the relevant snippets of the blog.\n",
    "retriever = vector_store.as_retriever()\n",
    "prompt = hub.pull(\"rlm/rag-prompt\")\n",
    "\n",
    "\n",
    "def format_docs(docs):\n",
    "    return \"\\n\\n\".join(doc.page_content for doc in docs)\n",
    "\n",
    "\n",
    "rag_chain = (\n",
    "    {\"context\": retriever | format_docs, \"question\": RunnablePassthrough()}\n",
    "    | prompt\n",
    "    | llm\n",
    "    | StrOutputParser()\n",
    ")"
   ]
  },
  {
   "cell_type": "code",
   "execution_count": 56,
   "metadata": {},
   "outputs": [
    {
     "name": "stderr",
     "output_type": "stream",
     "text": [
      "INFO: HTTP Request: POST https://api.openai.com/v1/embeddings \"HTTP/1.1 200 OK\"\n"
     ]
    },
    {
     "data": {
      "text/plain": [
       "[Document(id='7b287cb1-9e08-43c2-9e97-5b938f84dd01', metadata={'source': '/Users/krimssmirk/Desktop/rag-llm/PDFs/temporary_visitor/visiting_relatives.pdf', 'page': 0}, page_content='VISITING RELATIVES   \\nMAY  2023  \\nA. PURPOSE  \\nVisit relatives residing in Japan within the third degree . \\n(If you visit relatives beyond the third degree, refer the requirements for “VISITNG FRIENDS  AND \\nDISTANT RELATIVES ”.) \\nB. Requirements （Details→ https://www.ph.em b-japan.go.jp/itpr_ja/11_000001_00898.html ） \\n  ※ Downloadable from this website   \\n APPLICANT’S REQUIREMENTS  \\n(1) Passport（Holder ’s signature required ） \\n(2) Application Form ※（A facial Photo (4.5×3.5cm) must be attached. ） \\n☞ Submit All the relatives’ Birth Certi ficate/ Marriage Certificate enough to prove the third degree \\nrelationship between Applicant and Inviter.  \\n   (3) Birth Certificate (issued by PSA within 1 year)  \\n   【ADDITIONAL REQUIREMENTS 】 \\n    - If (3)  is unreadable, submit a Birth certificate  issued by Local Civil Registrar.  \\n    - If (3)  is “LATE REGISTRATION”, submit Baptismal Certificate and School Record ( DepEd: Form 137).  \\n    - If there is no r ecord of birth in PSA, submit Birth Certificate issued by Local Civil Registrar and \\nNegative Certificate issued by PSA.  \\n   (4) Marriage Certificate (issued by PSA within 1 year. For the married only.)  \\n    【ADDITIONAL REQUIREMENTS 】 \\n    - If (4)  is unreadable, submit Marriage certificate issued by Local Civil Registrar.  \\n- If there is no reco rd of marriage in PSA, submit Marriage Certificate issued by Local Civil Registrar \\nand Negative Certificate issued by PSA.  \\n【In case that applicant will shoulder part/all of travel expense 】  \\n(5) Bank Certificate   \\n(6) Photocopy of Income Tax Return ( BIR Form ) \\n  INVEITER’S REQUIREMENTS  \\n     (7) Invitation Letter ※ \\n     (8) Itinerary in Japan ※ \\n     (9) Resid ence Certificate (Jumin -hyo) of Inviter and Guarantor  \\n☞ Jumin -hyo must describe all household members, without omission of description except Individual \\nNumber and Jumin -hyo Code.   \\n  【ADDITIONAL REQUIREMENTS 】 \\n    - If inviter or his/her spouse is Japanese,  submit his/her Koseki -tohon.  \\n- If inviter/ guarantor is not Japanese, submit his/her  photocopy of Residence Card (both sides) . \\n  【In case that guarantor  will shoulder part/all of travel expense 】 \\n    (10) Guarantee Letter  ※ \\n(11) One/some of the Latest Follo wing Documents  \\n (To show guarantor’s precise capability to pay, submission of some of the following is allowed .) \\n- Income Certificate  (Shotoku -shomeisho)  \\n- Tax Certificate (Nozei -shomeisho. It must include description of the total amount of income)  \\n- Photo copy of Final Tax Return Form (Kakutei -shinkokusyo)  \\n- Bank Certificate  \\n \\n '),\n",
       " Document(id='58b973c3-4fb2-4f5a-8f27-7527ac8f555b', metadata={'source': '/Users/krimssmirk/Desktop/rag-llm/PDFs/temporary_visitor/visiting_friends.pdf', 'page': 0}, page_content='VISITING FRIENDS OR DISTANT RELATIVES   \\nMAY  2023  \\nA. PURPOSE  \\nVisit friends or distant relatives beyond the third degree  of relationship . \\nB. Requirements （Details→ https://www.ph.emb -japan.go.jp/itpr_ja/11_000001_00898.html ） \\nAPPLICANT’S REQUIREMENTS                                   ※ Downloadable from this website  \\n(1) Passport（Holder ’s signature required ） \\n(2) Application Form ※（A facial Photo (4.5×3.5cm) must be attached. ） \\n☞ If there is a used Japanese visa on your passport, the following (3) and (4) are unnecessa ry. \\n   (3) Birth Certificate (issued by PSA within 1 year)  \\n   【ADDITIONAL REQUIREMENTS 】 \\n    - If (3)  is unreadable, submit a Birth certificate issued by Local Civil Registrar.  \\n    - If (3)  is “LATE REGISTRATION”, submit Baptis mal Certificate and School Record ( DepEd: Form 137).  \\n    - If there is no r ecord of birth in PSA, submit Birth Certificate issued by Local Civil Registrar and \\nNegative Certificate issued by PSA.  \\n   (4) Marriage Certificate (issued by PSA within 1 year. For the married only.)  \\n    【ADDITIONAL REQUIREMENTS 】 \\n    - If (4)  is unreadable, submit Marriage certificate issued by Local Civil Registrar.  \\n- If there is no reco rd of marriage in PSA, submit Marriage Certificate issued by Local Civil Registrar \\nand Negative Certificate issued by PSA.  \\n【In case that applicant will shoulder part/all of travel expense 】  \\n(5) Bank Certificate   \\n(6) Photocopy of Income Tax Return ( BIR Form ) \\n  INVEITER’S REQUIREMENTS  \\n     (7) Invitation Letter (Describe relationship between Applicant and I nviter in detail) ※ \\n     (8) Itinerary in Japan ※ \\n     (9) Residence Certificate (Jumin -hyo) of Inviter and Guarantor  \\n☞ Jumin -hyo must describe all household members, without omission of description except Individual \\nNumber and Jumin -hyo Code.   \\n  【ADDITION AL REQUIREMENTS 】 \\n    - If inviter/ guarantor is not Japanese , submit his/her  photocopy of Residence Card (both sides) . \\n  (10)Proof of Relationship  \\n    - If you are friends, submit photos, E -mails, receipt of remittance or parcel, photocopy of passport \\ninclu ding stamps of friend’s country, etc.  \\n    - If you are relatives beyond the third degree, submit Birth Certificate, Marriage Certificate or \\nKoseki -tohon.  \\n  【In case that guarantor  will shoulder part/all of travel expense 】 \\n    (10) Guarantee Letter  ※ \\n(11) One/some of the Latest Following Documents  \\n (To show guarantor’s precise capability to pay, submission of  some of the following is allowed .) \\n- Income Certificate  (Shotoku -shomeisho)  \\n- Tax Certificate (Nozei -shomeisho. It must include description of the tot al amount of income .) \\n- Photocopy of Final Tax Return Form (Kakutei -shinkokusyo)  \\n- Bank Certificate  \\n '),\n",
       " Document(id='0a86ef84-d24b-4d4b-bf33-1300deda9ec8', metadata={'source': '/Users/krimssmirk/Desktop/rag-llm/PDFs/temporary_visitor/us_military.pdf', 'page': 0}, page_content='VISITING US MIILITALY PERSON NEL \\nMAY  2023  \\nA. PURPOSE  \\nVisit a US military personnel stationed in Japan or his/her dependent . \\n \\nB. Requirements （Details→ https://www.ph.emb -japan.go.jp/itpr_ja/11_000001_00898.html ） \\n \\n  ※ Downloadable from this website   \\n APPLICANT’S R EQUIREMENTS  \\n \\n(1) Passport（Holder ’s signature required ） \\n(2) Application Form ※（A facial Photo (4.5×3.5cm) must be attached. ） \\n   (3) Birth Certificate (issued by PSA within 1 year)  \\n   【ADDITIONAL REQUIREMENTS 】 \\n    - If (3)  is unreadable, submit Birth certificate issued by Local Civil Registrar.  \\n    - If (3) is “LATE REGISTRATION”, submit Baptismal Certificate and School Record ( DepEd: Form 137).  \\n    - If there is no r ecord of birth in PSA, submit Birth Certificate issued by Local Civil Registrar and \\nNegative Certificate issued by PSA.  \\n   (4) Marriage Certificate (issued by PSA within 1 year. For the married only.)  \\n    【ADDITIONAL REQUIREMENTS 】 \\n    - If the cert ificate is unreadable, submit Marriage certificate issued by Local Civil Registrar.  \\n- If there is no reco rd of marriage in PSA, submit Marriage Certificate issued by Local Civil Registrar \\nand Negative Certificate issued by PSA.  \\n【In case that applicant will shoulder part/all of travel expense 】  \\n(5) Bank Certificate   \\n(6) Photocopy of Income Tax Return ( BIR Form ) \\n \\n   \\nINVEITER’S REQUIREMENTS  \\n \\n     (7) Invitation Letter ※ \\n     (8) Itinerary in Japan ※ \\n     (9) Statement of Service (including E -mail address of att estant , if possible)  \\n    (10) Photocopy of Inviter’s passport  (Pages of ID and stamps  in Japan ) \\n(11) Proof of Relationship  \\n    - If you are relatives, submit Birth Certificate or Marriage Certificate (iss ued by PSA within 1 year).  \\n- If you are friends, submit photos, E -mails, receipt of remittance or parcel, etc.  \\n     \\n  【In case that US military personnel  will shoulder part/all of travel expense 】 \\n    (12) Guarantee Letter  ※ \\n(13) US Individual Income Tax Re turn  (IRS: Form 1040 and W -2) \\n \\n '),\n",
       " Document(id='e0ac0a7b-3773-4eb6-ac5a-3b9e1d051b14', metadata={'source': '/Users/krimssmirk/Desktop/rag-llm/PDFs/multiple_entry/financially_multiple_entry.pdf', 'page': 1}, page_content='B. Requirements （Details→ https://www.ph.emb -japan.go.jp/itpr_ja/11_0000 01_00898.html ）  submitted. For students, a copy of School ID or Certificate of Enrollment in School must be \\nsubmitted.  \\n  \\nII. Spouse or Child of (I)  \\n(1) Proof of relationship with (I) above (PSA issued Birth Certificate and Marriage Certificate, if \\napplicable)  \\n(2) Passport and multiple entry visa copy or documents of (I) above.  ')]"
      ]
     },
     "execution_count": 56,
     "metadata": {},
     "output_type": "execute_result"
    }
   ],
   "source": [
    "retriever.invoke(\"what is the requirements of visiting relatives?\")"
   ]
  },
  {
   "cell_type": "code",
   "execution_count": 57,
   "metadata": {},
   "outputs": [
    {
     "name": "stderr",
     "output_type": "stream",
     "text": [
      "INFO: HTTP Request: POST https://api.openai.com/v1/embeddings \"HTTP/1.1 200 OK\"\n",
      "INFO: HTTP Request: POST https://api.openai.com/v1/chat/completions \"HTTP/1.1 200 OK\"\n"
     ]
    },
    {
     "data": {
      "text/plain": [
       "'To visit relatives in Japan within the third degree, the requirements include a passport, an application form with a facial photo, and documentation proving the relationship, such as birth or marriage certificates. Additional documents may include a bank certificate and income tax return if the applicant will cover travel expenses. An invitation letter, itinerary, and residence certificate from the inviter are also necessary.'"
      ]
     },
     "execution_count": 57,
     "metadata": {},
     "output_type": "execute_result"
    }
   ],
   "source": [
    "rag_chain.invoke(\"list the requirements of visiting relatives\")"
   ]
  },
  {
   "cell_type": "code",
   "execution_count": null,
   "metadata": {},
   "outputs": [],
   "source": []
  }
 ],
 "metadata": {
  "kernelspec": {
   "display_name": ".venv",
   "language": "python",
   "name": "python3"
  },
  "language_info": {
   "codemirror_mode": {
    "name": "ipython",
    "version": 3
   },
   "file_extension": ".py",
   "mimetype": "text/x-python",
   "name": "python",
   "nbconvert_exporter": "python",
   "pygments_lexer": "ipython3",
   "version": "3.11.5"
  }
 },
 "nbformat": 4,
 "nbformat_minor": 2
}
